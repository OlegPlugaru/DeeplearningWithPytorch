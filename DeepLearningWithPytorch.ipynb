{
 "cells": [
  {
   "cell_type": "code",
   "execution_count": 2,
   "id": "fa1b60d3",
   "metadata": {},
   "outputs": [],
   "source": [
    "import torch"
   ]
  },
  {
   "cell_type": "code",
   "execution_count": 3,
   "id": "d04d799a-9412-4283-a5ae-c88113b6358f",
   "metadata": {},
   "outputs": [],
   "source": [
    "import torchvision"
   ]
  },
  {
   "cell_type": "code",
   "execution_count": 8,
   "id": "ab70beac-75b6-4425-8571-1a21a0163140",
   "metadata": {},
   "outputs": [
    {
     "name": "stdout",
     "output_type": "stream",
     "text": [
      "True\n"
     ]
    }
   ],
   "source": [
    "print(torch.backends.mps.is_available())"
   ]
  },
  {
   "cell_type": "code",
   "execution_count": 9,
   "id": "46c52576-534c-436e-a665-ef03d24f0c5c",
   "metadata": {},
   "outputs": [
    {
     "name": "stdout",
     "output_type": "stream",
     "text": [
      "tensor([2, 2, 1])\n"
     ]
    }
   ],
   "source": [
    "#This is a 1-D Tensor\n",
    "a = torch.tensor([2,2,1])\n",
    "print(a)"
   ]
  },
  {
   "cell_type": "code",
   "execution_count": 11,
   "id": "9b7d39e5-56fd-4cc0-83e5-2e628d2a0162",
   "metadata": {},
   "outputs": [
    {
     "name": "stdout",
     "output_type": "stream",
     "text": [
      "tensor([[2, 1, 4],\n",
      "        [3, 5, 4],\n",
      "        [1, 2, 0],\n",
      "        [4, 3, 2]])\n"
     ]
    }
   ],
   "source": [
    "#This is a 2-D Tensor\n",
    "b = torch.tensor([[2,1,4],[3,5,4],[1,2,0],[4,3,2]])\n",
    "print(b)"
   ]
  },
  {
   "cell_type": "code",
   "execution_count": 12,
   "id": "374d4adb-7ece-4bb3-b846-f5158e3c559a",
   "metadata": {},
   "outputs": [
    {
     "name": "stdout",
     "output_type": "stream",
     "text": [
      "torch.Size([3])\n",
      "torch.Size([4, 3])\n",
      "torch.Size([3])\n",
      "torch.Size([4, 3])\n"
     ]
    }
   ],
   "source": [
    "print(a.shape)\n",
    "print(b.shape)\n",
    "print(a.size())\n",
    "print(b.size())"
   ]
  },
  {
   "cell_type": "code",
   "execution_count": 13,
   "id": "7fe462d9-2b93-4a3c-8a17-124064a25f0a",
   "metadata": {},
   "outputs": [
    {
     "name": "stdout",
     "output_type": "stream",
     "text": [
      "4\n"
     ]
    }
   ],
   "source": [
    "#Get the height/number of rows of b\n",
    "print(b.shape[0])"
   ]
  },
  {
   "cell_type": "code",
   "execution_count": 14,
   "id": "ae55daf6-d2a6-40fb-905f-dceb979ef7ea",
   "metadata": {},
   "outputs": [],
   "source": [
    "c = torch.FloatTensor([[2,1,4],[3,5,4],[1,2,0],[4,3,2]])\n",
    "#or we can do \n",
    "#c = torch.tensor([2,2,1], dtype = torch.float)"
   ]
  },
  {
   "cell_type": "code",
   "execution_count": 15,
   "id": "162b0d9d-d8c1-4700-87e7-3f11ad641efd",
   "metadata": {},
   "outputs": [],
   "source": [
    "d = torch.DoubleTensor([[2,1,4],[3,5,4],[1,2,0],[4,3,2]])\n",
    "#or we can do\n",
    "#d = torch.tensor([2,2,1], dtype = torch.double)"
   ]
  },
  {
   "cell_type": "code",
   "execution_count": 16,
   "id": "c209982f-a03f-4562-a00c-51d7020c20db",
   "metadata": {},
   "outputs": [
    {
     "name": "stdout",
     "output_type": "stream",
     "text": [
      "tensor([[2., 1., 4.],\n",
      "        [3., 5., 4.],\n",
      "        [1., 2., 0.],\n",
      "        [4., 3., 2.]])\n",
      "torch.float32\n"
     ]
    }
   ],
   "source": [
    "print(c)\n",
    "print(c.dtype)"
   ]
  },
  {
   "cell_type": "code",
   "execution_count": 17,
   "id": "a609efaf-62c5-4554-b4b2-7a6cf13c6fbc",
   "metadata": {},
   "outputs": [
    {
     "name": "stdout",
     "output_type": "stream",
     "text": [
      "tensor([[2., 1., 4.],\n",
      "        [3., 5., 4.],\n",
      "        [1., 2., 0.],\n",
      "        [4., 3., 2.]], dtype=torch.float64)\n",
      "torch.float64\n"
     ]
    }
   ],
   "source": [
    "print(d)\n",
    "print(d.dtype)"
   ]
  },
  {
   "cell_type": "code",
   "execution_count": 18,
   "id": "1193dc00-24b6-4fb8-9006-047aa18b8439",
   "metadata": {},
   "outputs": [
    {
     "name": "stdout",
     "output_type": "stream",
     "text": [
      "tensor(2.5833)\n"
     ]
    }
   ],
   "source": [
    "print(c.mean())"
   ]
  },
  {
   "cell_type": "code",
   "execution_count": 19,
   "id": "20255f36-1fc7-42aa-ad7a-df7ecd5fa1df",
   "metadata": {},
   "outputs": [
    {
     "name": "stdout",
     "output_type": "stream",
     "text": [
      "tensor(2.5833, dtype=torch.float64)\n"
     ]
    }
   ],
   "source": [
    "print(d.mean())"
   ]
  },
  {
   "cell_type": "code",
   "execution_count": 20,
   "id": "55dbe6bf-7df7-408a-bbb2-a2b6c0d58321",
   "metadata": {},
   "outputs": [
    {
     "name": "stdout",
     "output_type": "stream",
     "text": [
      "tensor(1.5050)\n"
     ]
    }
   ],
   "source": [
    "print(c.std())"
   ]
  },
  {
   "cell_type": "code",
   "execution_count": 21,
   "id": "b8ce8886-4acb-4d13-91fa-96b3daf3374b",
   "metadata": {},
   "outputs": [
    {
     "name": "stdout",
     "output_type": "stream",
     "text": [
      "tensor(1.5050, dtype=torch.float64)\n"
     ]
    }
   ],
   "source": [
    "print(d.std())"
   ]
  },
  {
   "cell_type": "code",
   "execution_count": 31,
   "id": "815e405a-5c51-4fff-820c-4603a2646b69",
   "metadata": {},
   "outputs": [
    {
     "name": "stdout",
     "output_type": "stream",
     "text": [
      "tensor([[2],\n",
      "        [1],\n",
      "        [4],\n",
      "        [3],\n",
      "        [5],\n",
      "        [4],\n",
      "        [1],\n",
      "        [2],\n",
      "        [0],\n",
      "        [4],\n",
      "        [3],\n",
      "        [2]])\n",
      "tensor([2, 1, 4, 3, 5, 4, 1, 2, 0, 4, 3, 2])\n",
      "tensor([[2, 1, 4, 3],\n",
      "        [5, 4, 1, 2],\n",
      "        [0, 4, 3, 2]])\n",
      "tensor([[2, 1, 4, 3],\n",
      "        [5, 4, 1, 2],\n",
      "        [0, 4, 3, 2]])\n",
      "tensor([[2, 1, 4, 3, 5, 4, 1, 2, 0, 4, 3, 2]])\n",
      "torch.Size([1, 12])\n",
      "\n",
      "\n",
      "\n",
      "\n",
      "tensor([[[-0.3706,  1.3355,  2.3714, -1.6128],\n",
      "         [ 0.3829, -0.1959, -0.0728,  0.3336],\n",
      "         [-0.2476, -0.6222, -0.5815,  0.5566]],\n",
      "\n",
      "        [[-2.1391, -0.2175,  0.3556,  1.0056],\n",
      "         [ 1.7144, -1.6363,  0.2300, -0.5206],\n",
      "         [-0.3519, -0.4391, -0.9755,  0.8017]]])\n",
      "tensor([[-0.3706,  1.3355,  2.3714, -1.6128,  0.3829, -0.1959, -0.0728,  0.3336,\n",
      "         -0.2476, -0.6222, -0.5815,  0.5566],\n",
      "        [-2.1391, -0.2175,  0.3556,  1.0056,  1.7144, -1.6363,  0.2300, -0.5206,\n",
      "         -0.3519, -0.4391, -0.9755,  0.8017]])\n",
      "tensor([[-0.3706,  1.3355,  2.3714, -1.6128,  0.3829, -0.1959, -0.0728,  0.3336,\n",
      "         -0.2476, -0.6222, -0.5815,  0.5566],\n",
      "        [-2.1391, -0.2175,  0.3556,  1.0056,  1.7144, -1.6363,  0.2300, -0.5206,\n",
      "         -0.3519, -0.4391, -0.9755,  0.8017]])\n"
     ]
    }
   ],
   "source": [
    "#Reshape b\n",
    "#Note: If one of the dimensions is -1, its size can be inferred\n",
    "print(b.view(-1,1))\n",
    "print(b.view(12))\n",
    "print(b.view(-1,4))\n",
    "print(b.view(3,4))\n",
    "#Assign b a new shape \n",
    "b = b.view(1, -1)\n",
    "print(b)\n",
    "print(b.shape)\n",
    "#We can even reshape 3D tensors\n",
    "print('\\n')\n",
    "#Create a 3D Tensor with 2 channels, 3 rows and 4 columns (channels, rows, columns)\n",
    "three_dim = torch.randn(2, 3, 4)\n",
    "print('\\n')\n",
    "print(three_dim)\n",
    "print(three_dim.view(2, 12)) # Reshape to 2 rows, 12 columns\n",
    "print(three_dim.view(2, -1))"
   ]
  },
  {
   "cell_type": "code",
   "execution_count": 32,
   "id": "61559e27-856c-42c8-9aa7-dc6c130ce064",
   "metadata": {},
   "outputs": [
    {
     "name": "stdout",
     "output_type": "stream",
     "text": [
      "tensor([[0.3847, 0.6814, 0.5276, 0.0271],\n",
      "        [0.0862, 0.5641, 0.6504, 0.0842],\n",
      "        [0.4266, 0.0352, 0.8908, 0.9583],\n",
      "        [0.2472, 0.7920, 0.9204, 0.9664]])\n"
     ]
    }
   ],
   "source": [
    "#Create a matrix with random numbers between 0 and 1\n",
    "r = torch.rand(4,4)\n",
    "print(r)"
   ]
  },
  {
   "cell_type": "code",
   "execution_count": 33,
   "id": "575a77c0-b8b5-4c86-905f-28ce6e5b96b2",
   "metadata": {},
   "outputs": [
    {
     "name": "stdout",
     "output_type": "stream",
     "text": [
      "tensor([[-0.1613,  1.6046, -1.0796, -1.5409],\n",
      "        [ 1.4223,  2.1352, -1.5626, -0.1982],\n",
      "        [ 0.2299, -0.5924, -0.4289, -0.4157],\n",
      "        [ 0.4205,  0.4536, -0.7440, -1.8913]])\n",
      "torch.float32\n"
     ]
    }
   ],
   "source": [
    "#Create a matrix with random numbers taken from a normal distribution with mean 0 an variance 1\n",
    "r2 = torch.randn(4,4)\n",
    "print(r2)\n",
    "print(r2.dtype)"
   ]
  },
  {
   "cell_type": "code",
   "execution_count": 38,
   "id": "b42ece45-8be5-4316-97e5-0161420168e7",
   "metadata": {},
   "outputs": [
    {
     "name": "stdout",
     "output_type": "stream",
     "text": [
      "tensor([6, 9, 8, 8, 8])\n"
     ]
    }
   ],
   "source": [
    "#Create an array of 5 random integers from values between 6 and 9 (exclusive of 10)\n",
    "in_array = torch.randint(6, 10, (5,))\n",
    "print(in_array)\n"
   ]
  },
  {
   "cell_type": "code",
   "execution_count": 39,
   "id": "b4eb0083-4ab9-4909-909b-41f57d9af9c9",
   "metadata": {},
   "outputs": [
    {
     "name": "stdout",
     "output_type": "stream",
     "text": [
      "tensor([[9, 9, 6],\n",
      "        [6, 9, 6],\n",
      "        [7, 8, 6]])\n"
     ]
    }
   ],
   "source": [
    "#Create a 2-D array (or matrix) of size 3x3 filled with random integers from values between 6 and 9 (exclusive of 10)\n",
    "in_array2 = torch.randint(6,10, (3,3))\n",
    "print(in_array2)"
   ]
  },
  {
   "cell_type": "code",
   "execution_count": 42,
   "id": "5a6507fa-264a-4353-acb3-c96bb8146bcc",
   "metadata": {},
   "outputs": [
    {
     "name": "stdout",
     "output_type": "stream",
     "text": [
      "5\n",
      "9\n"
     ]
    }
   ],
   "source": [
    "#Get the number of elements in in_array\n",
    "print(torch.numel(in_array))\n",
    "#Get the number of elements in in_array\n",
    "print(torch.numel(in_array2))"
   ]
  },
  {
   "cell_type": "code",
   "execution_count": 43,
   "id": "6ccad352-c715-47b9-aa74-78565800f84d",
   "metadata": {},
   "outputs": [
    {
     "name": "stdout",
     "output_type": "stream",
     "text": [
      "tensor([[0, 0, 0],\n",
      "        [0, 0, 0],\n",
      "        [0, 0, 0]])\n",
      "tensor([[1., 1., 1.],\n",
      "        [1., 1., 1.],\n",
      "        [1., 1., 1.]])\n",
      "torch.float32\n"
     ]
    }
   ],
   "source": [
    "#Construct a 3x3 matrix of zeros and of dtype Long:\n",
    "z = torch.zeros(3,3, dtype=torch.long)\n",
    "print(z)\n",
    "#Construct a 3x3 matrix of ones\n",
    "o = torch.ones(3,3)\n",
    "print(o)\n",
    "print(o.dtype)"
   ]
  },
  {
   "cell_type": "code",
   "execution_count": 46,
   "id": "e8a9f5c3-221f-4081-8276-404013bfb642",
   "metadata": {},
   "outputs": [
    {
     "name": "stdout",
     "output_type": "stream",
     "text": [
      "tensor([[-1.2096e+00, -4.6493e-01,  1.8210e+00,  2.8016e-01],\n",
      "        [-3.3701e-02, -1.4938e+00,  5.9721e-01,  3.9938e-01],\n",
      "        [-2.8173e-01,  3.7011e-01,  1.0719e+00, -6.1796e-01],\n",
      "        [ 1.3610e+00, -1.3716e-02,  1.8620e-01,  5.8745e-04]],\n",
      "       dtype=torch.float64)\n"
     ]
    }
   ],
   "source": [
    "r2_like = torch.randn_like(r2, dtype=torch.double) #Convert the data type of the tensor\n",
    "print(r2_like)"
   ]
  },
  {
   "cell_type": "code",
   "execution_count": 47,
   "id": "5f70ee7b-13c1-484a-a953-743a7b9cc188",
   "metadata": {},
   "outputs": [
    {
     "name": "stdout",
     "output_type": "stream",
     "text": [
      "tensor([[ 0.2235,  2.2861, -0.5520, -1.5138],\n",
      "        [ 1.5086,  2.6993, -0.9122, -0.1139],\n",
      "        [ 0.6565, -0.5572,  0.4620,  0.5427],\n",
      "        [ 0.6678,  1.2457,  0.1764, -0.9249]])\n"
     ]
    }
   ],
   "source": [
    "#Add two tensors, make sure they are the same size and data type\n",
    "add_result= torch.add(r, r2)\n",
    "print(add_result)"
   ]
  },
  {
   "cell_type": "code",
   "execution_count": 48,
   "id": "bba9d3dd-6ec1-4566-a62d-5a1edbadd72d",
   "metadata": {},
   "outputs": [
    {
     "name": "stdout",
     "output_type": "stream",
     "text": [
      "tensor([[ 0.2235,  2.2861, -0.5520, -1.5138],\n",
      "        [ 1.5086,  2.6993, -0.9122, -0.1139],\n",
      "        [ 0.6565, -0.5572,  0.4620,  0.5427],\n",
      "        [ 0.6678,  1.2457,  0.1764, -0.9249]])\n"
     ]
    }
   ],
   "source": [
    "#In-place addition (change the value of r2)\n",
    "r2.add_(r)\n",
    "print(r2)"
   ]
  },
  {
   "cell_type": "code",
   "execution_count": null,
   "id": "94b2eef9-2892-4e3c-8277-862924e80b38",
   "metadata": {},
   "outputs": [],
   "source": []
  }
 ],
 "metadata": {
  "kernelspec": {
   "display_name": "Python 3 (ipykernel)",
   "language": "python",
   "name": "python3"
  },
  "language_info": {
   "codemirror_mode": {
    "name": "ipython",
    "version": 3
   },
   "file_extension": ".py",
   "mimetype": "text/x-python",
   "name": "python",
   "nbconvert_exporter": "python",
   "pygments_lexer": "ipython3",
   "version": "3.11.5"
  }
 },
 "nbformat": 4,
 "nbformat_minor": 5
}
